{
 "cells": [
  {
   "cell_type": "markdown",
   "metadata": {},
   "source": [
    "# 09022018 kinetic spec assay w/PNPP variable"
   ]
  },
  {
   "cell_type": "markdown",
   "metadata": {},
   "source": [
    "Since initial velocity was low for both concentrations and did not change like expected, we ran spec assays with different PNPP concentrations but held A.P concentration constant at 5 mg/mL to determine if PNPP was the limiting reagent."
   ]
  },
  {
   "cell_type": "markdown",
   "metadata": {},
   "source": [
    "### specs\n",
    "***\n",
    "* measured at normal, 2x, and 10x PNPP concentration to detect any relationship between PNPP concentration and reaction rate\n",
    "* 5 mg/mL A.P concentration held constant\n",
    "* no osmolytes\n",
    "* no incubation\n",
    "* samples measured at time of setup\n",
    "* used A.P dilutions from 2015"
   ]
  },
  {
   "cell_type": "markdown",
   "metadata": {},
   "source": [
    "reagent | final concentration | stock amount\n",
    "--- | --- | ---\n",
    "50 mM A.P @ -20 deg C | 5 mg/mL (1/10 dilution) in tris | 200 uL\n",
    "PNPP | 50 mg/mL | 200 uL\n",
    "2x PNPP | 100 mg/mL | 200 uL\n",
    "10x PNPP | 500 mg/mL | 200 uL"
   ]
  },
  {
   "cell_type": "code",
   "execution_count": null,
   "metadata": {},
   "outputs": [],
   "source": []
  }
 ],
 "metadata": {
  "kernelspec": {
   "display_name": "Python 3",
   "language": "python",
   "name": "python3"
  },
  "language_info": {
   "codemirror_mode": {
    "name": "ipython",
    "version": 3
   },
   "file_extension": ".py",
   "mimetype": "text/x-python",
   "name": "python",
   "nbconvert_exporter": "python",
   "pygments_lexer": "ipython3",
   "version": "3.6.4"
  }
 },
 "nbformat": 4,
 "nbformat_minor": 2
}
