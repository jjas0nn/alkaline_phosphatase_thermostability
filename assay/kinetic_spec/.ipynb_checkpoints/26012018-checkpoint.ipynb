{
 "cells": [
  {
   "cell_type": "markdown",
   "metadata": {},
   "source": [
    "# 26012018 kinetic spec assay"
   ]
  },
  {
   "cell_type": "markdown",
   "metadata": {},
   "source": [
    "### specs\n",
    "* 600 uL total assay volume (in cuvette)\n",
    "* 2 replicates"
   ]
  },
  {
   "cell_type": "markdown",
   "metadata": {},
   "source": [
    "reagent | concentration (dilution) | amount\n",
    "--- | ---\n",
    "A.P in 50mM tris dilution | .5 mg/mL (1/100) | 200 uL\n",
    "PNPP | 50 mg/mL | 200 uL"
   ]
  },
  {
   "cell_type": "markdown",
   "metadata": {},
   "source": [
    "## raw data"
   ]
  },
  {
   "cell_type": "code",
   "execution_count": 12,
   "metadata": {},
   "outputs": [
    {
     "name": "stdout",
     "output_type": "stream",
     "text": [
      "['Time', 'run1', 'run2']\n",
      "[-0.001, -0.001, 0.0, -0.002, -0.002, -0.002, -0.001, -0.004, -0.294, -0.295, -0.295, -0.295, -0.295, -0.294, -0.295, -0.294, -0.294, -0.295, -0.294, -0.294, -0.294, -0.294, 0.027, 0.12, 0.141, 0.152, 0.157, 0.156, 0.158, 0.16, 0.163, 0.166, 0.17, 0.175, 0.175, 0.177, 0.181, 0.185, 0.188, 0.19, 0.194, 0.198, 0.201, 0.206, 0.21, 0.215, 0.216, 0.222, 0.224, 0.231, 0.233, 0.237, 0.241, 0.246, 0.252, 0.256, 0.259, 0.261, 0.266, 0.272, 0.275, 0.28, 0.284, 0.286, 0.289, 0.294, 0.298, 0.301, 0.305, 0.311, 0.314, 0.317, 0.32, 0.328, 0.326, 0.331, 0.338, 0.341, 0.343, 0.35]\n"
     ]
    },
    {
     "data": {
      "text/plain": [
       "Text(0,0.5,'PNP Absorbance @ 410 nm')"
      ]
     },
     "execution_count": 12,
     "metadata": {},
     "output_type": "execute_result"
    },
    {
     "data": {
      "image/png": "[encoded data removed]",
      "text/plain": [
       "<Figure size 432x288 with 1 Axes>"
      ]
     },
     "metadata": {},
     "output_type": "display_data"
    }
   ],
   "source": [
    "import csv\n",
    "from collections import defaultdict\n",
    "import pandas as pd\n",
    "import scipy\n",
    "import numpy as np\n",
    "from sklearn.preprocessing import MinMaxScaler\n",
    "import matplotlib.pyplot as plt\n",
    "from scipy.interpolate import interp1d\n",
    "from scipy.misc import derivative\n",
    "with open(\"ap_26012018.csv\") as file:\n",
    "    reader=csv.reader(file)\n",
    "    data=list(reader)\n",
    "header=data[0]\n",
    "print(header)\n",
    "#row\n",
    "i=1\n",
    "#column\n",
    "j=2\n",
    "col=[]\n",
    "while i<len(data):\n",
    "    col.append(data[i][j])\n",
    "    i+=1\n",
    "try:\n",
    "    col=list(map(float, [a for a in col if a]))\n",
    "except ValueError:\n",
    "    col=[a for a in col if a]\n",
    "print(col)\n",
    "plt.plot(col)\n",
    "plt.title(\".5 mg/mL A.P activity\")\n",
    "plt.xlabel(\"Time (sec)\")\n",
    "plt.ylabel(\"PNP Absorbance @ 410 nm\")"
   ]
  },
  {
   "cell_type": "markdown",
   "metadata": {},
   "source": [
    "run | initial velocity /sec\n",
    "--- | ---\n",
    "1 | .003\n",
    "2 | .002"
   ]
  },
  {
   "cell_type": "code",
   "execution_count": null,
   "metadata": {},
   "outputs": [],
   "source": []
  }
 ],
 "metadata": {
  "kernelspec": {
   "display_name": "Python 3",
   "language": "python",
   "name": "python3"
  },
  "language_info": {
   "codemirror_mode": {
    "name": "ipython",
    "version": 3
   },
   "file_extension": ".py",
   "mimetype": "text/x-python",
   "name": "python",
   "nbconvert_exporter": "python",
   "pygments_lexer": "ipython3",
   "version": "3.6.4"
  }
 },
 "nbformat": 4,
 "nbformat_minor": 2
}
