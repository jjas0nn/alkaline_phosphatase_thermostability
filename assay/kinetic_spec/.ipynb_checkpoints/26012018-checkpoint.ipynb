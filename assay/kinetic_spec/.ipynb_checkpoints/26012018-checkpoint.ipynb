{
 "cells": [
  {
   "cell_type": "markdown",
   "metadata": {},
   "source": [
    "# 26012018 kinetic spec assay"
   ]
  },
  {
   "cell_type": "markdown",
   "metadata": {},
   "source": [
    "### specs\n",
    "* 600 uL total assay volume (in cuvette)\n",
    "* 2 replicates"
   ]
  },
  {
   "cell_type": "markdown",
   "metadata": {},
   "source": [
    "reagent | concentration (dilution) | amount\n",
    "--- | ---\n",
    "A.P in 50mM tris dilution | .5 mg/mL (1/100) | 200 uL\n",
    "PNPP | 50 mg/mL | 200 uL"
   ]
  },
  {
   "cell_type": "markdown",
   "metadata": {},
   "source": [
    "## raw data"
   ]
  },
  {
   "cell_type": "code",
   "execution_count": 7,
   "metadata": {},
   "outputs": [
    {
     "name": "stdout",
     "output_type": "stream",
     "text": [
      "['Time', 'run1', 'run2']\n",
      "[0.002, 0.001, 0.001, 0.001, 0.003, 0.003, 0.001, 0.0, 0.001, 0.001, 0.0, 0.001, 0.0, 0.002, 0.001, 0.0, 0.0, 0.002, 0.0, -0.001, 0.0, 0.001, 0.001, 0.001, 0.0, 0.0, 0.0, 0.0, 0.0, 0.002, 0.001, 0.0, 0.001, 0.002, 0.001, 0.0, 0.0, 0.003, 0.001, 0.0, 0.0, 0.0, 0.0, 0.0, 0.001, 0.0, 0.001, 0.001, 0.001, 0.002, 0.001, 0.002, 0.001, 0.001, 0.001, 0.001, 0.001, 0.0, 0.0, 0.0, 0.002, 0.001, 0.002, 0.001, 0.0, 0.002, 0.001, 0.001, 0.002, -0.001, 0.001, 0.001, 0.002, 0.001, 0.0, 0.002, 0.003, 0.002, 0.001, -0.22, -0.269, -0.269, -0.269, -0.269, -0.27, -0.269, -0.269, -0.269, -0.27, -0.27, -0.269, -0.269, -0.269, -0.269, -0.269, -0.269, -0.269, -0.269, -0.269, -0.268, -0.268, -0.269, -0.069, 0.129, 0.134, 0.14, 0.146, 0.152, 0.158, 0.163, 0.169, 0.174, 0.179, 0.186, 0.192, 0.196, 0.203, 0.206, 0.21, 0.274, 0.28, 0.282, 0.288, 0.291, 0.297, 0.3, 0.307, 0.312, 0.316, 0.323, 0.325, 0.333, 0.337, 0.343, 0.347, 0.352, 0.358, 0.361, 0.369, 0.371, 0.378, 0.381, 0.388, 0.39, 0.397, 0.401, 0.409, 0.412, 0.415, 0.422, 0.427, 0.435, 0.438, 0.444, 0.446, 0.452, 0.458, 0.462, 0.467, 0.472, 0.475, 0.482, 0.488, 0.491, 0.497, 0.501, 0.504, 0.509, 0.515, 0.518, 0.528, 0.531, 0.535, 0.538, 0.544, 0.55, 0.554, 0.558, 0.564, 0.566, 0.572, 0.575, 0.582, 0.587, 0.593, 0.597, 0.603, 0.608, 0.611, 0.613, 0.622, 0.624]\n"
     ]
    },
    {
     "data": {
      "text/plain": [
       "[<matplotlib.lines.Line2D at 0x10b43cc88>]"
      ]
     },
     "execution_count": 7,
     "metadata": {},
     "output_type": "execute_result"
    },
    {
     "data": {
      "image/png": "[encoded data removed]",
      "text/plain": [
       "<Figure size 432x288 with 1 Axes>"
      ]
     },
     "metadata": {},
     "output_type": "display_data"
    }
   ],
   "source": [
    "import csv\n",
    "from collections import defaultdict\n",
    "import pandas as pd\n",
    "import scipy\n",
    "import numpy as np\n",
    "from sklearn.preprocessing import MinMaxScaler\n",
    "import matplotlib.pyplot as plt\n",
    "from scipy.interpolate import interp1d\n",
    "from scipy.misc import derivative\n",
    "with open(\"ap_26012018.csv\") as file:\n",
    "    reader=csv.reader(file)\n",
    "    data=list(reader)\n",
    "header=data[0]\n",
    "print(header)\n",
    "#row\n",
    "i=1\n",
    "#column\n",
    "j=1\n",
    "col=[]\n",
    "while i<len(data):\n",
    "    col.append(data[i][j])\n",
    "    i+=1\n",
    "try:\n",
    "    col=list(map(float, [a for a in col if a]))\n",
    "except ValueError:\n",
    "    col=[a for a in col if a]\n",
    "print(col)\n",
    "plt.plot(col)"
   ]
  },
  {
   "cell_type": "code",
   "execution_count": null,
   "metadata": {},
   "outputs": [],
   "source": []
  }
 ],
 "metadata": {
  "kernelspec": {
   "display_name": "Python 3",
   "language": "python",
   "name": "python3"
  },
  "language_info": {
   "codemirror_mode": {
    "name": "ipython",
    "version": 3
   },
   "file_extension": ".py",
   "mimetype": "text/x-python",
   "name": "python",
   "nbconvert_exporter": "python",
   "pygments_lexer": "ipython3",
   "version": "3.6.4"
  }
 },
 "nbformat": 4,
 "nbformat_minor": 2
}
