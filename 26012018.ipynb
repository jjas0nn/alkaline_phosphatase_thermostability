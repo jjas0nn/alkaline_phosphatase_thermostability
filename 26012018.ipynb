{
 "cells": [
  {
   "cell_type": "markdown",
   "metadata": {},
   "source": [
    "# 26012018 kinetic spec assay"
   ]
  },
  {
   "cell_type": "markdown",
   "metadata": {},
   "source": [
    "### specs\n",
    "***\n",
    "* 600 uL total assay volume (in cuvette)\n",
    "* 2 replicates\n",
    "* no osmolytes\n",
    "* no incubation\n",
    "* samples measured at time of setup to establish linear range\n",
    "* not active like expected\n",
    "* used A.P dilutions from 2015"
   ]
  },
  {
   "cell_type": "markdown",
   "metadata": {},
   "source": [
    "reagent | final concentration | stock amount\n",
    "--- | --- | ---\n",
    "50 mM A.P @ -20 deg C | .5 mg/mL (1/100) in tris | 200 uL\n",
    "PNPP | 50 mg/mL | 200 uL"
   ]
  },
  {
   "cell_type": "markdown",
   "metadata": {},
   "source": [
    "## raw data"
   ]
  },
  {
   "cell_type": "code",
   "execution_count": 41,
   "metadata": {},
   "outputs": [
    {
     "ename": "FileNotFoundError",
     "evalue": "[Errno 2] No such file or directory: 'ap_26012018.csv'",
     "output_type": "error",
     "traceback": [
      "\u001b[0;31m---------------------------------------------------------------------------\u001b[0m",
      "\u001b[0;31mFileNotFoundError\u001b[0m                         Traceback (most recent call last)",
      "\u001b[0;32m<ipython-input-41-5182da0cf65d>\u001b[0m in \u001b[0;36m<module>\u001b[0;34m()\u001b[0m\n\u001b[1;32m      2\u001b[0m \u001b[0;32mimport\u001b[0m \u001b[0mmatplotlib\u001b[0m\u001b[0;34m.\u001b[0m\u001b[0mpyplot\u001b[0m \u001b[0;32mas\u001b[0m \u001b[0mplt\u001b[0m\u001b[0;34m\u001b[0m\u001b[0m\n\u001b[1;32m      3\u001b[0m \u001b[0;32mimport\u001b[0m \u001b[0mrequests\u001b[0m\u001b[0;34m\u001b[0m\u001b[0m\n\u001b[0;32m----> 4\u001b[0;31m \u001b[0;32mwith\u001b[0m \u001b[0mopen\u001b[0m\u001b[0;34m(\u001b[0m\u001b[0;34m\"ap_26012018.csv\"\u001b[0m\u001b[0;34m)\u001b[0m \u001b[0;32mas\u001b[0m \u001b[0mfile\u001b[0m\u001b[0;34m:\u001b[0m\u001b[0;34m\u001b[0m\u001b[0m\n\u001b[0m\u001b[1;32m      5\u001b[0m     \u001b[0mreader\u001b[0m\u001b[0;34m=\u001b[0m\u001b[0mcsv\u001b[0m\u001b[0;34m.\u001b[0m\u001b[0mreader\u001b[0m\u001b[0;34m(\u001b[0m\u001b[0mfile\u001b[0m\u001b[0;34m)\u001b[0m\u001b[0;34m\u001b[0m\u001b[0m\n\u001b[1;32m      6\u001b[0m     \u001b[0mdata\u001b[0m\u001b[0;34m=\u001b[0m\u001b[0mlist\u001b[0m\u001b[0;34m(\u001b[0m\u001b[0mreader\u001b[0m\u001b[0;34m)\u001b[0m\u001b[0;34m\u001b[0m\u001b[0m\n",
      "\u001b[0;31mFileNotFoundError\u001b[0m: [Errno 2] No such file or directory: 'ap_26012018.csv'"
     ]
    }
   ],
   "source": [
    "import csv\n",
    "import matplotlib.pyplot as plt\n",
    "import requests\n",
    "with open(\"dataset/ap_26012018.csv\") as file:\n",
    "    reader=csv.reader(file)\n",
    "    data=list(reader)\n",
    "header=data[0]\n",
    "i=0\n",
    "j=1\n",
    "csvdict={}\n",
    "while i<len(data[j]):\n",
    "    csvdict[header[i]]=[]\n",
    "    while j<len(data):\n",
    "        csvdict[header[i]].append(data[j][i])\n",
    "        j+=1\n",
    "    j=1\n",
    "    i+=1\n",
    "for key,val in csvdict.items():\n",
    "    val=list(map(float, [a for a in val if a]))\n",
    "    csvdict[key]=val\n",
    "print(csvdict)\n",
    "plt.plot(csvdict['run1'],label=header[1])\n",
    "plt.plot(csvdict['run2'],label=header[2])\n",
    "plt.xlabel(\"Time sec\")\n",
    "plt.ylabel(\"PNP absorbance @ 410 nm\")\n",
    "plt.title(\".5 mg/mL A.P activity\")\n",
    "plt.legend()"
   ]
  },
  {
   "cell_type": "markdown",
   "metadata": {},
   "source": [
    "run | initial velocity /sec\n",
    "--- | ---\n",
    "1 | .003\n",
    "2 | .002"
   ]
  },
  {
   "cell_type": "markdown",
   "metadata": {},
   "source": [
    "### Summary\n",
    "***\n",
    "Enzyme seems to be working, but small initial velocity means reaction is slow. This might indicate A.P and/or PNPP is working slowly."
   ]
  },
  {
   "cell_type": "code",
   "execution_count": null,
   "metadata": {},
   "outputs": [],
   "source": []
  }
 ],
 "metadata": {
  "kernelspec": {
   "display_name": "Python 3",
   "language": "python",
   "name": "python3"
  },
  "language_info": {
   "codemirror_mode": {
    "name": "ipython",
    "version": 3
   },
   "file_extension": ".py",
   "mimetype": "text/x-python",
   "name": "python",
   "nbconvert_exporter": "python",
   "pygments_lexer": "ipython3",
   "version": "3.6.4"
  }
 },
 "nbformat": 4,
 "nbformat_minor": 2
}
