{
 "cells": [
  {
   "cell_type": "markdown",
   "metadata": {},
   "source": [
    "# 26012018 kinetic spec assay"
   ]
  },
  {
   "cell_type": "markdown",
   "metadata": {},
   "source": [
    "### specs\n",
    "***\n",
    "* 600 uL total assay volume (in cuvette)\n",
    "* 2 replicates\n",
    "* no osmolytes\n",
    "* no incubation\n",
    "* samples measured at time of setup to establish linear range\n",
    "* not active like expected\n",
    "* used A.P dilutions from 2015"
   ]
  },
  {
   "cell_type": "markdown",
   "metadata": {},
   "source": [
    "reagent | final concentration | stock amount\n",
    "--- | --- | ---\n",
    "50 mM A.P @ -20 deg C | .5 mg/mL (1/100) in tris | 200 uL\n",
    "PNPP | 50 mg/mL | 200 uL"
   ]
  },
  {
   "cell_type": "markdown",
   "metadata": {},
   "source": [
    "## raw data"
   ]
  },
  {
   "cell_type": "code",
   "execution_count": 3,
   "metadata": {},
   "outputs": [
    {
     "name": "stdout",
     "output_type": "stream",
     "text": [
      "{'time': [0.0, 2.0, 3.0, 5.0, 7.0, 8.0, 10.0, 12.0, 14.0, 15.0, 17.0, 19.0, 20.0, 22.0, 24.0, 25.0, 27.0, 29.0, 30.0, 32.0, 34.0, 36.0, 37.0, 39.0, 41.0, 42.0, 44.0, 46.0, 47.0, 49.0, 51.0, 53.0, 54.0, 56.0, 58.0, 59.0, 61.0, 63.0, 64.0, 66.0, 68.0, 69.0, 71.0, 73.0, 75.0, 76.0, 78.0, 80.0, 81.0, 83.0, 85.0, 86.0, 88.0, 90.0, 91.0, 93.0, 95.0, 97.0, 98.0, 100.0, 102.0, 103.0, 105.0, 107.0, 108.0, 110.0, 112.0, 113.0, 115.0, 117.0, 119.0, 120.0, 122.0, 124.0, 125.0, 127.0, 129.0, 130.0, 132.0, 134.0, 135.0, 137.0, 139.0, 141.0, 142.0, 144.0, 146.0, 147.0, 149.0, 151.0, 152.0, 154.0, 156.0, 158.0, 159.0, 161.0, 163.0, 164.0, 166.0, 168.0, 169.0, 171.0, 173.0, 174.0, 176.0, 178.0, 180.0, 181.0, 183.0, 185.0, 186.0, 188.0, 190.0, 191.0, 193.0, 195.0, 196.0, 198.0, 200.0, 201.0, 202.0, 203.0, 204.0, 205.0, 206.0, 207.0, 208.0, 209.0, 210.0, 211.0, 212.0, 213.0, 214.0, 215.0, 216.0, 217.0, 218.0, 219.0, 220.0, 221.0, 222.0, 223.0, 224.0, 225.0, 226.0, 227.0, 228.0, 229.0, 230.0, 231.0, 232.0, 233.0, 234.0, 235.0, 236.0, 237.0, 238.0, 239.0, 240.0, 241.0, 242.0, 243.0, 244.0, 245.0, 246.0, 247.0, 248.0, 249.0, 250.0, 251.0, 252.0, 253.0, 254.0, 255.0, 256.0, 257.0, 258.0, 259.0, 260.0, 261.0, 262.0, 263.0, 264.0, 265.0, 266.0, 267.0, 268.0, 269.0, 270.0, 271.0, 272.0, 273.0], 'run1': [0.002, 0.001, 0.001, 0.001, 0.003, 0.003, 0.001, 0.0, 0.001, 0.001, 0.0, 0.001, 0.0, 0.002, 0.001, 0.0, 0.0, 0.002, 0.0, -0.001, 0.0, 0.001, 0.001, 0.001, 0.0, 0.0, 0.0, 0.0, 0.0, 0.002, 0.001, 0.0, 0.001, 0.002, 0.001, 0.0, 0.0, 0.003, 0.001, 0.0, 0.0, 0.0, 0.0, 0.0, 0.001, 0.0, 0.001, 0.001, 0.001, 0.002, 0.001, 0.002, 0.001, 0.001, 0.001, 0.001, 0.001, 0.0, 0.0, 0.0, 0.002, 0.001, 0.002, 0.001, 0.0, 0.002, 0.001, 0.001, 0.002, -0.001, 0.001, 0.001, 0.002, 0.001, 0.0, 0.002, 0.003, 0.002, 0.001, -0.22, -0.269, -0.269, -0.269, -0.269, -0.27, -0.269, -0.269, -0.269, -0.27, -0.27, -0.269, -0.269, -0.269, -0.269, -0.269, -0.269, -0.269, -0.269, -0.269, -0.268, -0.268, -0.269, -0.069, 0.129, 0.134, 0.14, 0.146, 0.152, 0.158, 0.163, 0.169, 0.174, 0.179, 0.186, 0.192, 0.196, 0.203, 0.206, 0.21, 0.274, 0.28, 0.282, 0.288, 0.291, 0.297, 0.3, 0.307, 0.312, 0.316, 0.323, 0.325, 0.333, 0.337, 0.343, 0.347, 0.352, 0.358, 0.361, 0.369, 0.371, 0.378, 0.381, 0.388, 0.39, 0.397, 0.401, 0.409, 0.412, 0.415, 0.422, 0.427, 0.435, 0.438, 0.444, 0.446, 0.452, 0.458, 0.462, 0.467, 0.472, 0.475, 0.482, 0.488, 0.491, 0.497, 0.501, 0.504, 0.509, 0.515, 0.518, 0.528, 0.531, 0.535, 0.538, 0.544, 0.55, 0.554, 0.558, 0.564, 0.566, 0.572, 0.575, 0.582, 0.587, 0.593, 0.597, 0.603, 0.608, 0.611, 0.613, 0.622, 0.624], 'run2': [-0.001, -0.001, 0.0, -0.002, -0.002, -0.002, -0.001, -0.004, -0.294, -0.295, -0.295, -0.295, -0.295, -0.294, -0.295, -0.294, -0.294, -0.295, -0.294, -0.294, -0.294, -0.294, 0.027, 0.12, 0.141, 0.152, 0.157, 0.156, 0.158, 0.16, 0.163, 0.166, 0.17, 0.175, 0.175, 0.177, 0.181, 0.185, 0.188, 0.19, 0.194, 0.198, 0.201, 0.206, 0.21, 0.215, 0.216, 0.222, 0.224, 0.231, 0.233, 0.237, 0.241, 0.246, 0.252, 0.256, 0.259, 0.261, 0.266, 0.272, 0.275, 0.28, 0.284, 0.286, 0.289, 0.294, 0.298, 0.301, 0.305, 0.311, 0.314, 0.317, 0.32, 0.328, 0.326, 0.331, 0.338, 0.341, 0.343, 0.35]}\n"
     ]
    },
    {
     "data": {
      "text/plain": [
       "<matplotlib.legend.Legend at 0x110fcd898>"
      ]
     },
     "execution_count": 3,
     "metadata": {},
     "output_type": "execute_result"
    },
    {
     "data": {
      "image/png": "[encoded data removed]",
      "text/plain": [
       "<Figure size 432x288 with 1 Axes>"
      ]
     },
     "metadata": {},
     "output_type": "display_data"
    }
   ],
   "source": [
    "import csv\n",
    "import sys\n",
    "sys.path.insert(0, 'process_csv/')\n",
    "from process_csv import *\n",
    "import matplotlib.pyplot as plt\n",
    "import requests\n",
    "with open(\"dataset/ap_26012018.csv\") as file:\n",
    "    reader=csv.reader(file)\n",
    "    data=list(reader)\n",
    "header=data[0]\n",
    "i=0\n",
    "j=1\n",
    "csvdict={}\n",
    "while i<len(data[j]):\n",
    "    csvdict[header[i]]=[]\n",
    "    while j<len(data):\n",
    "        csvdict[header[i]].append(data[j][i])\n",
    "        j+=1\n",
    "    j=1\n",
    "    i+=1\n",
    "for key,val in csvdict.items():\n",
    "    val=list(map(float, [a for a in val if a]))\n",
    "    csvdict[key]=val\n",
    "print(csvdict)\n",
    "jj=process_csv(\"dataset/ap_26012018.csv\")\n",
    "jj.csv2dict\n",
    "plt.plot(csvdict['run1'],label=header[1])\n",
    "plt.plot(csvdict['run2'],label=header[2])\n",
    "plt.xlabel(\"Time sec\")\n",
    "plt.ylabel(\"PNP absorbance @ 410 nm\")\n",
    "plt.title(\".5 mg/mL A.P activity\")\n",
    "plt.legend()"
   ]
  },
  {
   "cell_type": "markdown",
   "metadata": {},
   "source": [
    "run | initial velocity /sec\n",
    "--- | ---\n",
    "1 | .003\n",
    "2 | .002"
   ]
  },
  {
   "cell_type": "markdown",
   "metadata": {},
   "source": [
    "### Summary\n",
    "***\n",
    "Enzyme seems to be working, but small initial velocity means reaction is slow. This might indicate A.P and/or PNPP is working slowly."
   ]
  },
  {
   "cell_type": "code",
   "execution_count": null,
   "metadata": {},
   "outputs": [],
   "source": []
  }
 ],
 "metadata": {
  "kernelspec": {
   "display_name": "Python 3",
   "language": "python",
   "name": "python3"
  },
  "language_info": {
   "codemirror_mode": {
    "name": "ipython",
    "version": 3
   },
   "file_extension": ".py",
   "mimetype": "text/x-python",
   "name": "python",
   "nbconvert_exporter": "python",
   "pygments_lexer": "ipython3",
   "version": "3.6.4"
  }
 },
 "nbformat": 4,
 "nbformat_minor": 2
}
