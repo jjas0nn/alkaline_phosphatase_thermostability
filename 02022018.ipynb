{
 "cells": [
  {
   "cell_type": "markdown",
   "metadata": {},
   "source": [
    "# 02022018 kinetic spec assay"
   ]
  },
  {
   "cell_type": "markdown",
   "metadata": {},
   "source": [
    "### specs\n",
    "***\n",
    "* 600 uL total assay volume (in cuvette)\n",
    "* 2 replicates\n",
    "* no osmolytes\n",
    "* no incubation\n",
    "* samples measured at time of setup to establish linear range\n",
    "* not active like expected\n",
    "* used A.P dilutions from 2015 with a more concentrated dilution"
   ]
  },
  {
   "cell_type": "markdown",
   "metadata": {},
   "source": [
    "reagent | final concentration | stock amount\n",
    "--- | --- | ---\n",
    "50 mM A.P @ -20 deg C | 5 mg/mL (1/10 dilution) in tris | 200 uL\n",
    "PNPP | 50 mg/mL | 200 uL"
   ]
  },
  {
   "cell_type": "code",
   "execution_count": 5,
   "metadata": {},
   "outputs": [
    {
     "name": "stdout",
     "output_type": "stream",
     "text": [
      "{'Time': [0.0, 5.0, 11.0, 16.0, 21.0, 26.0, 32.0, 37.0, 42.0, 48.0, 53.0, 58.0, 64.0, 69.0, 74.0, 79.0, 85.0, 90.0, 95.0, 101.0, 106.0, 111.0, 117.0, 122.0, 127.0, 132.0, 138.0, 143.0, 148.0, 154.0, 159.0, 164.0, 170.0, 175.0, 180.0, 185.0, 191.0, 196.0], 'run1': [-0.001, 0.0, 0.0, -0.106, -0.112, -0.113, -0.113, -0.046, 0.07, 0.1, 0.125, 0.152, 0.176, 0.201, 0.223, 0.244, 0.269, 0.291, 0.314, 0.335, 0.36, 0.382, 0.405, 0.429, 0.45, 0.472, 0.495, 0.516, 0.536, 0.559, 0.584, 0.605, 0.622, 0.647, 0.666, 0.69, 0.712, 0.732], 'run2': [0.005, 0.009, 0.01, 0.013, 0.017, 0.018, 0.02, 0.022, 0.024, 0.027, -0.092, -0.253, -0.254, -0.254, -0.253, -0.254, -0.254, 0.046, 0.212, 0.222, 0.23, 0.234, 0.243, 0.248, 0.254, 0.255, 0.261, 0.263, 0.269, 0.273, 0.277, 0.28, 0.284, 0.287, 0.292, 0.295, 0.298, 0.302]}\n"
     ]
    },
    {
     "data": {
      "text/plain": [
       "<matplotlib.legend.Legend at 0x10bbafba8>"
      ]
     },
     "execution_count": 5,
     "metadata": {},
     "output_type": "execute_result"
    },
    {
     "data": {
      "image/png": "[encoded data removed]",
      "text/plain": [
       "<Figure size 432x288 with 1 Axes>"
      ]
     },
     "metadata": {},
     "output_type": "display_data"
    }
   ],
   "source": [
    "import csv\n",
    "import sys\n",
    "sys.path.insert(0, 'process_csv/')\n",
    "from process_csv import *\n",
    "import matplotlib.pyplot as plt\n",
    "import requests\n",
    "with open(\"dataset/ap_02022018.csv\") as file:\n",
    "    reader=csv.reader(file)\n",
    "    data=list(reader)\n",
    "header=data[0]\n",
    "i=0\n",
    "j=1\n",
    "csvdict={}\n",
    "while i<len(data[j]):\n",
    "    csvdict[header[i]]=[]\n",
    "    while j<len(data):\n",
    "        csvdict[header[i]].append(data[j][i])\n",
    "        j+=1\n",
    "    j=1\n",
    "    i+=1\n",
    "for key,val in csvdict.items():\n",
    "    val=list(map(float, [a for a in val if a]))\n",
    "    csvdict[key]=val\n",
    "print(csvdict)\n",
    "plt.plot(csvdict['run1'],label=header[1])\n",
    "plt.plot(csvdict['run2'],label=header[2])\n",
    "plt.xlabel(\"Time sec\")\n",
    "plt.ylabel(\"PNP absorbance @ 410 nm\")\n",
    "plt.title(\"5 mg/mL A.P activity\")\n",
    "plt.legend()"
   ]
  },
  {
   "cell_type": "markdown",
   "metadata": {},
   "source": [
    "run | initial velocity /sec\n",
    "--- | ---\n",
    "1 | .004\n",
    "2 | .00124"
   ]
  },
  {
   "cell_type": "markdown",
   "metadata": {},
   "source": [
    "### Summary\n",
    "***\n",
    "Used 10x more concentrated A.P dilution than 26012018 but no significant increase in initial velocity."
   ]
  },
  {
   "cell_type": "code",
   "execution_count": null,
   "metadata": {},
   "outputs": [],
   "source": []
  }
 ],
 "metadata": {
  "kernelspec": {
   "display_name": "Python 3",
   "language": "python",
   "name": "python3"
  },
  "language_info": {
   "codemirror_mode": {
    "name": "ipython",
    "version": 3
   },
   "file_extension": ".py",
   "mimetype": "text/x-python",
   "name": "python",
   "nbconvert_exporter": "python",
   "pygments_lexer": "ipython3",
   "version": "3.6.4"
  }
 },
 "nbformat": 4,
 "nbformat_minor": 2
}
