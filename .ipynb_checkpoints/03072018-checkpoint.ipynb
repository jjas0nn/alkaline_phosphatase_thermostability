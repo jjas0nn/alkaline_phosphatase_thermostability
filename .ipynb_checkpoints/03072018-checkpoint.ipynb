{
 "cells": [
  {
   "cell_type": "markdown",
   "metadata": {},
   "source": [
    "# 03072018 kinetic spec assay--temp trials"
   ]
  },
  {
   "cell_type": "markdown",
   "metadata": {},
   "source": [
    "## setup\n",
    "***\n",
    "* ***2.5 mg/mL A.P in buffer in H2O incubated at 53.3 and 60 degrees for 0,3,5 days.***\n",
    "* 18 replicates\n",
    "* 750 uL total assay volume (in cuvette)\n",
    "* no osmolytes\n",
    "\n",
    "## objectives\n",
    "***\n",
    "* find temperature when A.P starts losing activity\n",
    "* amount of time A.P can be exposed to specific temp before it starts losing activity"
   ]
  },
  {
   "cell_type": "code",
   "execution_count": null,
   "metadata": {},
   "outputs": [],
   "source": []
  }
 ],
 "metadata": {
  "kernelspec": {
   "display_name": "Python 3",
   "language": "python",
   "name": "python3"
  }
 },
 "nbformat": 4,
 "nbformat_minor": 2
}
