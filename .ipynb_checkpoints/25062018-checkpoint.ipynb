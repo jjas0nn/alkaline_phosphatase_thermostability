{
 "cells": [
  {
   "cell_type": "markdown",
   "metadata": {},
   "source": [
    "# 25062018 kinetic spec assay--incubation"
   ]
  },
  {
   "cell_type": "markdown",
   "metadata": {},
   "source": [
    "## setup\n",
    "***\n",
    "* ***A.P in buffer dilutions incubated at 42 deg C from 0-3 days. Samples were pulled at each timepoint and immediately stored in -20 deg C. By day 3, all samples have been pulled from 42 deg C incubator and placed in -20 deg C freezer.***\n",
    "* ***A.P in buffer dilutions stored in screw cap tubes instead of microfuge tubes. Screw cap tubes with A.P dilutions then stored in freezer box with open tubes of water for evaporation purposes. Freezer box sealed tight with cellophane.***\n",
    "* ***1 tube per timepoint.***\n",
    "* 10 replicates\n",
    "* 2.5 mg/mL A.P in buffer\n",
    "* 750 uL total assay volume (in cuvette)\n",
    "* no osmolytes"
   ]
  },
  {
   "cell_type": "markdown",
   "metadata": {},
   "source": [
    "reagent | final concentration | incubation time (day) | incubation temp deg C\n",
    "--- | --- | --- | ---\n",
    "50 mM A.P @ -80 deg C | 2.5 mg/mL (1/20 dilution) in A.P assay buffer | 0 | 42\n",
    "50 mM A.P @ -80 deg C | 2.5 mg/mL (1/20 dilution) in A.P assay buffer | 1 | 42\n",
    "50 mM A.P @ -80 deg C | 2.5 mg/mL (1/20 dilution) in A.P assay buffer | 2 | 42\n",
    "50 mM A.P @ -80 deg C | 2.5 mg/mL (1/20 dilution) in A.P assay buffer | 3 | 42\n",
    "PNPP | 50 mg/mL |"
   ]
  },
  {
   "cell_type": "markdown",
   "metadata": {},
   "source": [
    "date | activity \n",
    "--- | ---\n",
    "06062018 | begin 42 deg C incubation. to establish control, day 0 samples stored in -20 deg C without prior incubated \n",
    "07062018 | day 1 tube removed and stored in -20 deg C\n",
    "08062018 | day 2 tube removed and stored in -20 deg C\n",
    "09062018 | day 3 tube removed and stored in -20 deg C\n",
    "25062018 | all samples measured for enzyme activity"
   ]
  },
  {
   "cell_type": "code",
   "execution_count": null,
   "metadata": {},
   "outputs": [],
   "source": []
  }
 ],
 "metadata": {
  "kernelspec": {
   "display_name": "Python 3",
   "language": "python",
   "name": "python3"
  },
  "language_info": {
   "codemirror_mode": {
    "name": "ipython",
    "version": 3
   },
   "file_extension": ".py",
   "mimetype": "text/x-python",
   "name": "python",
   "nbconvert_exporter": "python",
   "pygments_lexer": "ipython3",
   "version": "3.7.0b4"
  }
 },
 "nbformat": 4,
 "nbformat_minor": 2
}
