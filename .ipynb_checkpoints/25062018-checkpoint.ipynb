{
 "cells": [
  {
   "cell_type": "markdown",
   "metadata": {},
   "source": [
    "# 25062018 kinetic spec assay--incubation"
   ]
  },
  {
   "cell_type": "markdown",
   "metadata": {},
   "source": [
    "### setup\n",
    "***\n",
    "* ***A.P in buffer dilutions incubated at 42 degrees from 0-3 days***\n",
    "* 10 replicates\n",
    "* 2.5 mg/mL A.P in buffer\n",
    "* samples measured at time of setup to establish linear range\n",
    "* 750 uL total assay volume (in cuvette)\n",
    "* no osmolytes"
   ]
  },
  {
   "cell_type": "markdown",
   "metadata": {},
   "source": [
    "reagent | final concentration | time | temp deg C\n",
    "--- | --- | --- | ---\n",
    "50 mM A.P @ -80 deg C | 2.5 mg/mL (1/20 dilution) in A.P assay buffer | 0 | 42\n",
    "50 mM A.P @ -80 deg C | 2.5 mg/mL (1/20 dilution) in A.P assay buffer | 1 | 42\n",
    "50 mM A.P @ -80 deg C | 2.5 mg/mL (1/20 dilution) in A.P assay buffer | 2 | 42\n",
    "50 mM A.P @ -80 deg C | 2.5 mg/mL (1/20 dilution) in A.P assay buffer | 3 | 42\n",
    "PNPP | 50 mg/mL | |"
   ]
  },
  {
   "cell_type": "code",
   "execution_count": null,
   "metadata": {},
   "outputs": [],
   "source": []
  }
 ],
 "metadata": {
  "kernelspec": {
   "display_name": "Python 3",
   "language": "python",
   "name": "python3"
  },
  "language_info": {
   "codemirror_mode": {
    "name": "ipython",
    "version": 3
   },
   "file_extension": ".py",
   "mimetype": "text/x-python",
   "name": "python",
   "nbconvert_exporter": "python",
   "pygments_lexer": "ipython3",
   "version": "3.6.4"
  }
 },
 "nbformat": 4,
 "nbformat_minor": 2
}
