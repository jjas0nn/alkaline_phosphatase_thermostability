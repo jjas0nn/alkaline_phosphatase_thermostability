{
 "cells": [
  {
   "cell_type": "markdown",
   "metadata": {},
   "source": [
    "# 10072018 kinetic spec assay w/sucrose"
   ]
  },
  {
   "cell_type": "markdown",
   "metadata": {},
   "source": [
    "## specs\n",
    "***\n",
    "* ***Osmolyte: Sucrose***\n",
    "* 2.5 mg/mL A.P in (storage buffer (storage buffer master mix) + sucrose of various concentrations + H2O)\n",
    "    * sucrose concentration differences balanced w/H2O\n",
    "* No incubation\n",
    "* samples measured at time of setup to establish linear range\n",
    "    * init velocity vs [sucrose] \n",
    "* 750 uL total assay volume (in cuvette)"
   ]
  },
  {
   "cell_type": "markdown",
   "metadata": {},
   "source": [
    "## new reagents\n",
    "***\n",
    "* 20 uL .5 mM ZnSO4\n",
    "* 50 uL 1 mM MgCl2\n",
    "* 2.26 M sucrose\n",
    "* 150 uL A.P storage buffer for sucrose\n",
    "    * tris pH 8+NaCl+ZnSO4+MgCl2+(2.26 M sucrose+H2O) see \"sucrose dilutions\""
   ]
  },
  {
   "cell_type": "markdown",
   "metadata": {},
   "source": [
    "## sucrose dilutions\n",
    "***\n",
    "[sucrose] | vol 2.26 M sucrose added | vol H2O added \n",
    ":---: | :---: | :---: \n",
    "0 M--Control | 0 | 108 uL\n",
    "1.23 M | 71.43 uL | 36.567 uL\n",
    ".615 M | 35.716 uL | 72.283 uL\n"
   ]
  },
  {
   "cell_type": "markdown",
   "metadata": {},
   "source": [
    "## microfuge tube volume\n",
    "***\n",
    "37.5 uL 2.5 mg/mL A.P * 3.5 replicates = 131.25 uL A.P per sucrose dilution"
   ]
  },
  {
   "cell_type": "markdown",
   "metadata": {},
   "source": [
    "## microfuge tube contents\n",
    "***\n"
   ]
  },
  {
   "cell_type": "code",
   "execution_count": null,
   "metadata": {},
   "outputs": [],
   "source": []
  }
 ],
 "metadata": {
  "kernelspec": {
   "display_name": "Python 3",
   "language": "python",
   "name": "python3"
  },
  "language_info": {
   "codemirror_mode": {
    "name": "ipython",
    "version": 3
   },
   "file_extension": ".py",
   "mimetype": "text/x-python",
   "name": "python",
   "nbconvert_exporter": "python",
   "pygments_lexer": "ipython3",
   "version": "3.7.0"
  }
 },
 "nbformat": 4,
 "nbformat_minor": 2
}
