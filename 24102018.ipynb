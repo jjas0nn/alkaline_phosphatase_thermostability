{
 "cells": [
  {
   "cell_type": "code",
   "execution_count": 26,
   "metadata": {},
   "outputs": [
    {
     "name": "stdout",
     "output_type": "stream",
     "text": [
      "{'0': [0.03195, 0.0287, 0.03397], '15': [0.01864, 0.0196, 0.01875], '30': [0.01535, 0.01866, 0.01795], '45': [0.01375, 0.01354, 0.01457]}\n",
      "[1.917, 1.722, 2.0382] 1.8924\n",
      "[1.1184, 1.176, 1.125] 1.1398\n",
      "[0.921, 1.1196, 1.077] 1.0392\n",
      "[0.825, 0.8124, 0.8742] 0.8372\n",
      "[0.002170913786097151, 0.0004289781139198385, 0.0014228375405037166, 0.0004443972197132749]\n",
      "[0.825, 0.8187, 0.8372, 0.8372]\n"
     ]
    }
   ],
   "source": [
    "from process_csv import *\n",
    "from collections import defaultdict\n",
    "import numpy as np\n",
    "import matplotlib.pyplot as plt\n",
    "import csv\n",
    "#import requests\n",
    "with open(\"dataset/ap_24102018_init_vel.csv\") as file:\n",
    "    reader=csv.reader(file)\n",
    "    data=list(reader)\n",
    "header=data[0]\n",
    "i=1\n",
    "j=1\n",
    "csvdict={}\n",
    "while i<len(data[j]):\n",
    "    csvdict[header[i]]=[]\n",
    "    while j<len(data):\n",
    "        csvdict[header[i]].append(data[j][i])\n",
    "        j+=1\n",
    "    j=1\n",
    "    i+=1\n",
    "for key,val in csvdict.items():\n",
    "    val=list(map(float, [a for a in val if a]))\n",
    "    csvdict[key]=val\n",
    "print(csvdict)\n",
    "stdev=[]\n",
    "for key, val in csvdict.items():\n",
    "    keyval=[]\n",
    "    keyval.append(key)\n",
    "    for i in val:\n",
    "        i=i*60"
   ]
  },
  {
   "cell_type": "code",
   "execution_count": null,
   "metadata": {},
   "outputs": [],
   "source": []
  }
 ],
 "metadata": {
  "kernelspec": {
   "display_name": "Python 3",
   "language": "python",
   "name": "python3"
  },
  "language_info": {
   "codemirror_mode": {
    "name": "ipython",
    "version": 3
   },
   "file_extension": ".py",
   "mimetype": "text/x-python",
   "name": "python",
   "nbconvert_exporter": "python",
   "pygments_lexer": "ipython3",
   "version": "3.7.0"
  }
 },
 "nbformat": 4,
 "nbformat_minor": 2
}
