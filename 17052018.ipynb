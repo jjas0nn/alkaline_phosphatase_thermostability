{
 "cells": [
  {
   "cell_type": "markdown",
   "metadata": {},
   "source": [
    "# 17052018 kinetic spec assay"
   ]
  },
  {
   "cell_type": "markdown",
   "metadata": {},
   "source": [
    "### setup\n",
    "***\n",
    "* 25 replicates\n",
    "* A.P stock diluted in A.P assay buffer\n",
    "* samples measured at time of setup to establish linear range\n",
    "* 750 uL total assay volume (in cuvette)\n",
    "* no osmolytes\n",
    "* no incubation"
   ]
  },
  {
   "cell_type": "markdown",
   "metadata": {},
   "source": [
    "reagent | final concentration\n",
    "--- | --- \n",
    "50 mM A.P @ -80 deg C |  mg/mL (1/20 dilution) in A.P assay buffer\n",
    "50 mM A.P @ -80 deg C |  mg/mL (1/40 dilution) in A.P assay buffer\n",
    "50 mM A.P @ -80 deg C |  mg/mL (1/60 dilution) in A.P assay buffer\n",
    "50 mM A.P @ -80 deg C |  mg/mL (1/120 dilution) in A.P assay buffer\n",
    "50 mM A.P @ -80 deg C |  mg/mL (1/200 dilution) in A.P assay buffer\n",
    "50 mM A.P @ -80 deg C |  mg/mL (1/250 dilution) in A.P assay buffer\n",
    "50 mM A.P @ -80 deg C |  mg/mL (1/300 dilution) in A.P assay buffer\n",
    "PNPP | 50 mg/mL"
   ]
  },
  {
   "cell_type": "code",
   "execution_count": null,
   "metadata": {},
   "outputs": [],
   "source": []
  }
 ],
 "metadata": {
  "kernelspec": {
   "display_name": "Python 3",
   "language": "python",
   "name": "python3"
  },
  "language_info": {
   "codemirror_mode": {
    "name": "ipython",
    "version": 3
   },
   "file_extension": ".py",
   "mimetype": "text/x-python",
   "name": "python",
   "nbconvert_exporter": "python",
   "pygments_lexer": "ipython3",
   "version": "3.6.4"
  }
 },
 "nbformat": 4,
 "nbformat_minor": 2
}
