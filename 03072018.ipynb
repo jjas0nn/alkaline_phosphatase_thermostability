{
 "cells": [
  {
   "cell_type": "markdown",
   "metadata": {},
   "source": [
    "# 03072018 kinetic spec assay--temp trials"
   ]
  },
  {
   "cell_type": "markdown",
   "metadata": {},
   "source": [
    "## setup\n",
    "***\n",
    "* ***2.5 mg/mL A.P in H2O incubated at 53 and 60 degrees for 0,3,5 days.***\n",
    "* Intended: 2.5 mg/mL A.P in buffer in H2O incubated at 50,55,60 degrees for 0,1,3,5 days.\n",
    " * Day 1 tubes pulled at day 5.\n",
    " * Actual temp was 53 and 60 deg C.\n",
    "* 18 replicates\n",
    "* 750 uL total assay volume (in cuvette)\n",
    "* no osmolytes\n",
    "\n",
    "## objectives\n",
    "***\n",
    "* find temperature when A.P starts losing activity\n",
    "* amount of time A.P can be exposed to specific temp before it starts losing activity"
   ]
  },
  {
   "cell_type": "code",
   "execution_count": null,
   "metadata": {},
   "outputs": [],
   "source": []
  }
 ],
 "metadata": {
  "kernelspec": {
   "display_name": "Python 3",
   "language": "python",
   "name": "python3"
  }
 },
 "nbformat": 4,
 "nbformat_minor": 2
}
