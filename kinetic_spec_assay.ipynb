{
 "cells": [
  {
   "cell_type": "markdown",
   "metadata": {},
   "source": [
    "# Kinetic Spec Assay protocol"
   ]
  },
  {
   "cell_type": "markdown",
   "metadata": {},
   "source": [
    "## Reaction mechanism\n",
    "Alkaline phosphatase cleaves phosphate group from paranitrophenylphosphate by hydrolysis to yield paranitrophenyl and inorganic phosphate. Paranitrophenyl max absorbance is 410 nm so the amount of absorbance indicates the amount of paranitrophenyl present and therefore the reaction progress."
   ]
  },
  {
   "cell_type": "markdown",
   "metadata": {},
   "source": [
    "## Reagents\n",
    "1. alkaline phosphatase assay buffer\n",
    "2. 50 mg/mL PNPP (prepare fresh)\n",
    "3. alkaline phosphatase dilution (in buffer)"
   ]
  },
  {
   "cell_type": "markdown",
   "metadata": {},
   "source": [
    "50mg/mL A.P aliquots | Location | Used\n",
    ":---: | :---: | :---:\n",
    "2015 10 mL | -20 deg freezer | 26012018-09022018\n",
    "2015 100 mL | -20 deg freezer | 23022018-09032018\n",
    "26042018 10 mL, 100 mL | -80 deg freezer | 08052018-present\n"
   ]
  },
  {
   "cell_type": "markdown",
   "metadata": {},
   "source": [
    "## Materials\n",
    "1. oceanoptics UV spec\n",
    "2. spectrometer cuvette\n",
    "3. microfuge tubes\n",
    "4. Logger pro"
   ]
  },
  {
   "cell_type": "markdown",
   "metadata": {},
   "source": [
    "## Procedure\n",
    "1. Alkaline phosphatase--Dilute A.P stock solution in assay buffer solution down to desired concentration. Store in ice.\n",
    "2. 50 mg/mL PNPP--Dilute 12.5 mg PNPP in 250 uL dI H2O. Must be prepared fresh. Store in ice, away from light.\n",
    "3. Blank spec with 705 uL A.P buffer solution and 7.5 50 mg/mL PNPP.  Cuvette should be in spec filled with A.P buffer solution and 50 mg/mL PNPP, with arrow pointed towards wires.\n",
    "4. Set data collection mode to abs vs time @ 410 nm (max absorbance of PNP).\n",
    "5. Start data collection.  Cuvette should be in spec with A.P buffer solution and 50 mg/mL PNPP.\n",
    "6. As fast as possible, remove cuvette from spec. Pipette in 37.5 uL of alkaline phosphatase dilution, invert cuvette, place back in spec.\n",
    "7. Absorbance vs time curve will increase noticeably. Stop data collection when curve levels off or 200 seconds has elapsed.  Solution should appear yellow.\n",
    "8. Rinse out cuvette with dI water after each run.\n",
    "\n",
    "A.P stock solution was diluted in 50mM Tris until 17052018."
   ]
  },
  {
   "cell_type": "markdown",
   "metadata": {},
   "source": [
    "## Assay contents in cuvette"
   ]
  },
  {
   "cell_type": "markdown",
   "metadata": {},
   "source": [
    "### as of 23022018\n",
    "total 750 uL"
   ]
  },
  {
   "cell_type": "markdown",
   "metadata": {},
   "source": [
    "Reagent | Volume\n",
    ":---: | :---:\n",
    "Alkaline phosphatase assay buffer | 705 uL\n",
    "50 mg/mL PNPP | 7.5 uL\n",
    "Alkaline phosphatase dilution | 37.5 uL\n"
   ]
  },
  {
   "cell_type": "markdown",
   "metadata": {},
   "source": [
    "### 26012018 - 02022018\n",
    "total 600 uL"
   ]
  },
  {
   "cell_type": "markdown",
   "metadata": {},
   "source": [
    "Reagent | Volume\n",
    ":---: | :---:\n",
    "Alkaline phosphatase assay buffer | 564 uL\n",
    "50 mg/mL PNPP | 6 uL\n",
    "Alkaline phosphatase dilution | 30 uL"
   ]
  },
  {
   "cell_type": "markdown",
   "metadata": {},
   "source": [
    "### exception on 09022018:\n",
    "vary PNPP concentration while holding A.P concentration constant. see 09022018 for more details"
   ]
  }
 ],
 "metadata": {
  "kernelspec": {
   "display_name": "Python 3",
   "language": "python",
   "name": "python3"
  },
  "language_info": {
   "codemirror_mode": {
    "name": "ipython",
    "version": 3
   },
   "file_extension": ".py",
   "mimetype": "text/x-python",
   "name": "python",
   "nbconvert_exporter": "python",
   "pygments_lexer": "ipython3",
   "version": "3.6.4"
  }
 },
 "nbformat": 4,
 "nbformat_minor": 2
}
