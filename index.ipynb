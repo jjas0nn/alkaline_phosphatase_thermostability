{
 "cells": [
  {
   "cell_type": "markdown",
   "metadata": {},
   "source": [
    "# alkaline phosphatase thermostability"
   ]
  },
  {
   "cell_type": "markdown",
   "metadata": {},
   "source": [
    "## Background\n",
    "Proteins denature at high temperatures and osmolytes are known to protect against protein denaturation.  However, under certain conditions, various osmolytes may have inhibitory/destructive effects.  Alkaline phosphatase is an enzyme that dephosphorylates substrates optimally at basic pH environments. Introduction of osmolytes to alkaline phosphatase during storage should either improve or have no effect on the thermostability.  This can be verified by analyzing reaction rates with A.P catalyzing PNPP dephosphorylation.  Enzyme activity due to temperature is being analyzed, so pH will be held constant at 7.6, a basic environment for maximum performance."
   ]
  },
  {
   "cell_type": "markdown",
   "metadata": {},
   "source": [
    "## General Objectives\n",
    "1. determine native A.P stabilty\n",
    "2. determine A.P stability differences with osmolytes\n",
    "3. find highest temperature/longest exposure of native stability\n",
    "4. optimize environment temperature and types/concentration of osmolytes for ideal A.P thermostability"
   ]
  },
  {
   "cell_type": "markdown",
   "metadata": {},
   "source": [
    "# Methods\n",
    "1. Kinetic spec assay\n",
    "2. thermal melt\n",
    "3. SDS-PAGE"
   ]
  },
  {
   "cell_type": "markdown",
   "metadata": {},
   "source": [
    "## Variables\n",
    "1. incubation time\n",
    "2. incubation temp\n",
    "3. storage temp\n",
    "4. pH (constant)\n",
    "5. substrate concentration (constant)\n"
   ]
  },
  {
   "cell_type": "markdown",
   "metadata": {},
   "source": [
    "## Reagents"
   ]
  },
  {
   "cell_type": "markdown",
   "metadata": {},
   "source": [
    "**Reagent** | **Purpose**\n",
    ":---:|:---:\n",
    "Alkaline Phosphatase | enzyme\n",
    "para-Nitrophenylphosphate (PNPP) | substrate\n",
    "Sucrose | osmolyte\n",
    "Tris | assay buffer"
   ]
  },
  {
   "cell_type": "code",
   "execution_count": null,
   "metadata": {},
   "outputs": [],
   "source": []
  }
 ],
 "metadata": {
  "kernelspec": {
   "display_name": "Python 3",
   "language": "python",
   "name": "python3"
  },
  "language_info": {
   "codemirror_mode": {
    "name": "ipython",
    "version": 3
   },
   "file_extension": ".py",
   "mimetype": "text/x-python",
   "name": "python",
   "nbconvert_exporter": "python",
   "pygments_lexer": "ipython3",
   "version": "3.6.4"
  }
 },
 "nbformat": 4,
 "nbformat_minor": 2
}
