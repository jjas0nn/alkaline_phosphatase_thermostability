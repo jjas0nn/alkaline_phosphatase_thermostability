{
 "cells": [
  {
   "cell_type": "markdown",
   "metadata": {},
   "source": [
    "# 10102018 kinetic spec assay"
   ]
  },
  {
   "cell_type": "markdown",
   "metadata": {},
   "source": [
    "### purpose\n",
    "***\n",
    "establish temperature denaturation curve with unprotected A.P. gathering controls."
   ]
  },
  {
   "cell_type": "markdown",
   "metadata": {},
   "source": [
    "### setup\n",
    "***\n",
    "* no osmolyte\n",
    "* no freezing\n",
    "* initial [A.P]: 50 mg/mL in A.P storage solution\n",
    "* [A.P] during incubation: ***2.5 mg/mL*** in A.P assay buffer\n",
    "* incubation temp: 60, 65, 70 deg C\n",
    "* time pts: 0,15,30,90 min\n",
    "* A.P storage condition: temp,time\n",
    "* 3 temps x 4 time pts= **12** different conditions\n",
    "* 1 tube per condition\n",
    "* 3 reps per condition\n",
    "* ***total: 12 tubes=12 conditions, 36 reps***\n",
    "* Final [A.P] in cuvette (assay concentration): 0.125 mg/mL in assay"
   ]
  },
  {
   "cell_type": "markdown",
   "metadata": {},
   "source": [
    "reagent | final concentration\n",
    "--- | --- \n",
    "50 mM A.P @ -80 deg C | 2.5 mg/mL in A.P assay buffer\n",
    "PNPP | 50 mg/mL in H2O"
   ]
  },
  {
   "cell_type": "markdown",
   "metadata": {},
   "source": [
    "#### individual microfuge tube contents\n",
    "***\n",
    "* 131.25 uL 2.5 mg/mL A.P dilution in A.P assay buffer per tube=3.5 replicates per tube"
   ]
  },
  {
   "cell_type": "markdown",
   "metadata": {},
   "source": [
    "### master mix for 2.5 mg/mL A.P in A.P assay buffer\n",
    "***\n",
    "\n",
    "* C1=50mg/mL\n",
    "* ***V1=85.3125 uL 50 mg/mL A.P***\n",
    "* C2=2.5 mg/mL A.P in A.P assay buffer\n",
    "* V2=131.25uL x 13 tubes=1.70625 mL\n",
    "\n",
    "* A.P assay buffer to add=V2-V1=1706.25 uL - 85.3125 uL = ***1620.9375 uL***"
   ]
  },
  {
   "cell_type": "markdown",
   "metadata": {},
   "source": [
    "### PNPP 50 mg/mL calculations"
   ]
  },
  {
   "cell_type": "markdown",
   "metadata": {},
   "source": [
    "***\n",
    "* vol needed=7.5 uL x 36 reps = 270 uL --> ***300 uL H2O***\n",
    "* 50 mg/mL x .3 mL = ***15 mg PNPP***"
   ]
  },
  {
   "cell_type": "markdown",
   "metadata": {},
   "source": [
    "#### cuvette contents (assay)\n",
    "***\n",
    "Reagent | Volume | Final Concentration (in assay) | blank?\n",
    ":---: | :---: | :---: | :---:\n",
    "Alkaline phosphatase assay buffer | 705 uL | |yes\n",
    "50 mg/mL PNPP | 7.5 uL | |yes\n",
    "2.5 mg/mL Alkaline phosphatase dilution in A.P assay buffer| 37.5 uL | 0.125 mg/mL | no"
   ]
  },
  {
   "cell_type": "markdown",
   "metadata": {},
   "source": [
    "### Procedure\n",
    "***\n",
    "* see \"kinetic_spec_assay\" for more info about kinetic spec assay procedures\n",
    "\n",
    "***A.P treatment:***\n",
    "***thaw on ice, store on ice***\n",
    "* initial [A.P]: 50 mg/mL in A.P storage solution\n",
    "* dilute 50 mg/mL A.P in storage solution to 2.5 mg/mL A.P in A.P assay buffer master mix\n",
    "* make 131.25 x 13 uL of A.P master mix\n",
    "* aliquot 131.25 A.P master mix in each tube\n",
    "* incubate at specified temp for 0,15,30,90 mins\n",
    "* after incubation period for each tube, let A.P tube sit on ice for 5 mins\n",
    "\n",
    "*** data collection ***\n",
    "* blank spec with A.P assay buffer and 50 mg/mL PNPP\n",
    "* start data collection w/blank\n",
    "* add 37.5 uL 2.5 mg/mL A.P dilution into cuvette\n",
    "* continue with data collection until equilibrium reached\n",
    "* record dAbs410nm/sec and dAbs410nm/min for each run\n",
    "\n",
    "*** data analysis***\n",
    "* find avg init vel per min for each condition\n",
    "* plot avg init vel per min vs time (min), 1 plot for each temp\n",
    "* normalise data and plot % activity vs time (min), 1 plot for each temp\n"
   ]
  }
 ],
 "metadata": {
  "kernelspec": {
   "display_name": "Python 3",
   "language": "python",
   "name": "python3"
  },
  "language_info": {
   "codemirror_mode": {
    "name": "ipython",
    "version": 3
   },
   "file_extension": ".py",
   "mimetype": "text/x-python",
   "name": "python",
   "nbconvert_exporter": "python",
   "pygments_lexer": "ipython3",
   "version": "3.6.4"
  }
 },
 "nbformat": 4,
 "nbformat_minor": 2
}
