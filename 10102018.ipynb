{
 "cells": [
  {
   "cell_type": "markdown",
   "metadata": {},
   "source": [
    "# 0102018 kinetic spec assay"
   ]
  },
  {
   "cell_type": "markdown",
   "metadata": {},
   "source": [
    "### purpose\n",
    "***\n",
    "establish temperature denaturation curve with unprotected A.P. gathering controls."
   ]
  },
  {
   "cell_type": "markdown",
   "metadata": {},
   "source": [
    "### setup\n",
    "***\n",
    "* no osmolyte\n",
    "* no freezing\n",
    "* initial [A.P]: 50 mg/mL in A.P storage solution\n",
    "* [A.P] during incubation: 2.5 mg/mL in A.P assay buffer\n",
    "* incubation temp: 60, 65, 70 deg C\n",
    "* time pts: 0,15,30,90 min\n",
    "* A.P storage condition: temp,time\n",
    "* 3 temps x 4 time pts= **12** different conditions\n",
    "* 1 tube per condition\n",
    "* 3 reps per condition\n",
    "* ***total: 12 tubes=12 conditions, 36 reps***\n",
    "* Final [A.P] in cuvette (assay concentration): 0.125 mg/mL in assay"
   ]
  },
  {
   "cell_type": "markdown",
   "metadata": {},
   "source": [
    "reagent | final concentration\n",
    "--- | --- \n",
    "50 mM A.P @ -80 deg C | 2.5 mg/mL in A.P assay buffer\n",
    "PNPP | 50 mg/mL in H2O"
   ]
  },
  {
   "cell_type": "markdown",
   "metadata": {},
   "source": [
    "#### individual microfuge tube contents\n",
    "***\n",
    "* 131.25 uL 2.5 mg/mL A.P dilution in A.P assay buffer\n",
    "* 131.25 uL per tube=3.5 replicates per tube"
   ]
  },
  {
   "cell_type": "markdown",
   "metadata": {},
   "source": [
    "#### cuvette contents (assay)\n",
    "***\n",
    "Reagent | Volume | Final Concentration (Assay Concentration)\n",
    ":---: | :---: | :---:\n",
    "Alkaline phosphatase assay buffer | 705 uL |\n",
    "50 mg/mL PNPP | 7.5 uL |\n",
    "2.5 mg/mL Alkaline phosphatase dilution | 37.5 uL | 0.125 mg/mL"
   ]
  },
  {
   "cell_type": "markdown",
   "metadata": {},
   "source": [
    "### Procedure\n",
    "***\n",
    "* see \"kinetic_spec_assay\" for more info about kinetic spec assay procedures\n",
    "\n",
    "***A.P treatment***\n",
    "* initial [A.P]: 50 mg/mL in A.P storage solution\n",
    "\n",
    "Activity | value \n",
    ":---: | :---: | \n",
    "dilute | 50 mg/mL in A.P storage solution -> 2.5 mg/mL in A.P assay buffer \n",
    "aliquot | 131.25 uL per microfuge tube x 12 microfuge tubes \n",
    "separate | 4 tubes per temperature: 60,65,70 deg\n",
    "for each temp: incubate | time of incubation: 0,15,30,90 mins\n",
    "after desired timepoint place tubes on ice | 5 mins\n",
    "measure w/spec |"
   ]
  },
  {
   "cell_type": "code",
   "execution_count": null,
   "metadata": {},
   "outputs": [],
   "source": []
  }
 ],
 "metadata": {
  "kernelspec": {
   "display_name": "Python 3",
   "language": "python",
   "name": "python3"
  },
  "language_info": {
   "codemirror_mode": {
    "name": "ipython",
    "version": 3
   },
   "file_extension": ".py",
   "mimetype": "text/x-python",
   "name": "python",
   "nbconvert_exporter": "python",
   "pygments_lexer": "ipython3",
   "version": "3.6.4"
  }
 },
 "nbformat": 4,
 "nbformat_minor": 2
}
