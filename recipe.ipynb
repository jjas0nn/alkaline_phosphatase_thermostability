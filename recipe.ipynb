{
 "cells": [
  {
   "cell_type": "markdown",
   "metadata": {},
   "source": [
    "# Recipe "
   ]
  },
  {
   "cell_type": "markdown",
   "metadata": {},
   "source": [
    "### for common reagents"
   ]
  },
  {
   "cell_type": "markdown",
   "metadata": {},
   "source": [
    "## 50 mL A.P buffer\n",
    "***"
   ]
  },
  {
   "cell_type": "markdown",
   "metadata": {},
   "source": [
    "stock solution | vol | final concentration\n",
    "---|---|---\n",
    ".917 M Tris-Cl pH 8 | 2.726281352 mL | 50 mM\n",
    "5 M NaCl | 5 mL | 500 mM\n",
    ".5 M ZnSO4 | 1 uL | 10 uM\n",
    "1 M MgCl2 | 5 uL | 100 uM\n",
    "dI H2O | 42.26772 mL |"
   ]
  },
  {
   "cell_type": "markdown",
   "metadata": {},
   "source": [
    "## 50 mg/mL PNPP\n",
    "***"
   ]
  },
  {
   "cell_type": "markdown",
   "metadata": {},
   "source": [
    "stock solution|amount\n",
    "---|---\n",
    "PNPP | 12.5 mg\n",
    "dI H2O | 250 uL"
   ]
  },
  {
   "cell_type": "markdown",
   "metadata": {},
   "source": [
    "### previously\n",
    "***\n",
    "stock solution|amount\n",
    "---|---\n",
    "PNPP | 10 mg\n",
    "dI H2O | 200 uL"
   ]
  },
  {
   "cell_type": "markdown",
   "metadata": {},
   "source": [
    "## 50 mg/mL A.P stock solution"
   ]
  },
  {
   "cell_type": "markdown",
   "metadata": {},
   "source": [
    "#### (storage solution for A.P)\n",
    "***"
   ]
  },
  {
   "cell_type": "markdown",
   "metadata": {},
   "source": [
    "stock solution | vol | final concentration\n",
    "---|---|---\n",
    "1 M Tris-Cl pH 7.6 | 70 uL | 20 mM\n",
    "1 M MgCl2 | 35 uL | 100 uM\n",
    ".005 M ZnSO4 | 7 uL | 10 uM\n",
    "5 M NaCl | 175 uL | 250 mM\n",
    "80% glycerol | 875 uL | 20%\n",
    "dI H2O | 2338 uL |\n",
    "\n",
    "+.150 g Alkaine Phosphatase==>50 mg/mL A.P in storage <br />\n",
    "final vol: 3.5 mL "
   ]
  },
  {
   "cell_type": "markdown",
   "metadata": {},
   "source": [
    "## A.P storage buffer sucrose master mix\n",
    "***"
   ]
  },
  {
   "cell_type": "markdown",
   "metadata": {},
   "source": [
    "#### (storage buffer master mix for A.P in sucrose)"
   ]
  },
  {
   "cell_type": "markdown",
   "metadata": {},
   "source": [
    "stock solution | vol | final concentration\n",
    "---|---|---\n",
    ".917 M Tris-Cl pH 8 | 14.5 uL | 50 mg/mL\n",
    "5 M NaCl | 210 uL | 500 mg/mL\n",
    ".0005 M ZnSO4 | 42 uL | .01 mg/mL\n",
    ".001 M MgCl2 | 210 uL | .1 mg/mL\n",
    "\n",
    "yields 36.03 uL mastermix per screw cap tube"
   ]
  },
  {
   "cell_type": "markdown",
   "metadata": {},
   "source": [
    "## 50 mM Tris used until 17052018"
   ]
  }
 ],
 "metadata": {
  "kernelspec": {
   "display_name": "Python 3",
   "language": "python",
   "name": "python3"
  },
  "language_info": {
   "codemirror_mode": {
    "name": "ipython",
    "version": 3
   },
   "file_extension": ".py",
   "mimetype": "text/x-python",
   "name": "python",
   "nbconvert_exporter": "python",
   "pygments_lexer": "ipython3",
   "version": "3.6.4"
  }
 },
 "nbformat": 4,
 "nbformat_minor": 2
}
